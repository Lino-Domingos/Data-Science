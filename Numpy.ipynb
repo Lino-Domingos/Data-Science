{
  "nbformat": 4,
  "nbformat_minor": 0,
  "metadata": {
    "colab": {
      "provenance": [],
      "authorship_tag": "ABX9TyN93ifD7bt3pvTvyASfBjrd",
      "include_colab_link": true
    },
    "kernelspec": {
      "name": "python3",
      "display_name": "Python 3"
    },
    "language_info": {
      "name": "python"
    }
  },
  "cells": [
    {
      "cell_type": "markdown",
      "metadata": {
        "id": "view-in-github",
        "colab_type": "text"
      },
      "source": [
        "<a href=\"https://colab.research.google.com/github/Lino-Domingos/data-minig2/blob/main/Numpy.ipynb\" target=\"_parent\"><img src=\"https://colab.research.google.com/assets/colab-badge.svg\" alt=\"Open In Colab\"/></a>"
      ]
    },
    {
      "cell_type": "markdown",
      "source": [
        "# **Numpy**"
      ],
      "metadata": {
        "id": "lALFcAzGfzz3"
      }
    },
    {
      "cell_type": "code",
      "source": [
        "import numpy as np\n",
        "print(np.__version__)"
      ],
      "metadata": {
        "colab": {
          "base_uri": "https://localhost:8080/"
        },
        "id": "fKl6dGHVf4b6",
        "outputId": "c58c7c04-1200-42c0-9166-e1a40bb4d383"
      },
      "execution_count": 2,
      "outputs": [
        {
          "output_type": "stream",
          "name": "stdout",
          "text": [
            "1.22.4\n"
          ]
        }
      ]
    },
    {
      "cell_type": "markdown",
      "source": [
        "Numpy e usado para trabalhar com arrays; "
      ],
      "metadata": {
        "id": "2qU_n5LbgU77"
      }
    },
    {
      "cell_type": "markdown",
      "source": [
        "Para verificar o numero da dimensao do array e necessario, escrever a palavra reservada (ndim);\n",
        "De uma forma geral, esta biblioteca e usada para trabalhar com array de varias dimensoes em matrizes."
      ],
      "metadata": {
        "id": "_aCGxjO-hcO4"
      }
    }
  ]
}