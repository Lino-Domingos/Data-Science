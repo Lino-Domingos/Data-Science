{
  "nbformat": 4,
  "nbformat_minor": 0,
  "metadata": {
    "colab": {
      "provenance": [],
      "authorship_tag": "ABX9TyNPdQvMCJ3RhXykDYPuXWWf",
      "include_colab_link": true
    },
    "kernelspec": {
      "name": "python3",
      "display_name": "Python 3"
    },
    "language_info": {
      "name": "python"
    }
  },
  "cells": [
    {
      "cell_type": "markdown",
      "metadata": {
        "id": "view-in-github",
        "colab_type": "text"
      },
      "source": [
        "<a href=\"https://colab.research.google.com/github/Lino-Domingos/data-minig2/blob/main/Final_project.ipynb\" target=\"_parent\"><img src=\"https://colab.research.google.com/assets/colab-badge.svg\" alt=\"Open In Colab\"/></a>"
      ]
    },
    {
      "cell_type": "markdown",
      "source": [
        "My name is *Lino Domingos Chitlhango*, I participated to Summerschol  doing the course *Data Mining II*, and now i pass to  present my final project for this course. Therefore, in this project I will present one of the techniques called *linear regression*."
      ],
      "metadata": {
        "id": "Y4WQwpyhkIW7"
      }
    },
    {
      "cell_type": "markdown",
      "source": [
        "In this context, I used the Salary Prediction dataset as dataset, downloaded from the **Kaggle** website through the link: https://www.kaggle.com/datasets/rkiattisak/salaly-prediction-for-beginer"
      ],
      "metadata": {
        "id": "Pw6DDerWl0t4"
      }
    },
    {
      "cell_type": "markdown",
      "source": [
        "# **Linear Regression**\n",
        "\n",
        "\n",
        "---"
      ],
      "metadata": {
        "id": "M-dre9mnZz-x"
      }
    },
    {
      "cell_type": "markdown",
      "source": [
        "It is a technical statistic that can be used to analyze the relationship between a single dependent variable and multiple independent (predictor) variables. *The first step is to import the necessary libraries*"
      ],
      "metadata": {
        "id": "IykM3NGta8yH"
      }
    },
    {
      "cell_type": "code",
      "source": [
        "#Libraries in python for analyzing data, important libraries for working with data\n",
        "import pandas as pd\n",
        "import numpy as np\n",
        "import math\n",
        "\n",
        "#Library essential to make plot of all graphics\n",
        "import matplotlib.pyplot as plt\n",
        "\n",
        "#Libraries needed to perform linear regression\n",
        "from sklearn.linear_model import LinearRegression\n",
        "from sklearn.metrics import r2_score\n",
        "from sklearn.metrics import mean_squared_error"
      ],
      "metadata": {
        "id": "cQFVnFYDaY2t"
      },
      "execution_count": 1,
      "outputs": []
    }
  ]
}