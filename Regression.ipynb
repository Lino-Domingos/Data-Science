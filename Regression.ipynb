{
  "nbformat": 4,
  "nbformat_minor": 0,
  "metadata": {
    "colab": {
      "provenance": [],
      "toc_visible": true,
      "authorship_tag": "ABX9TyMj1hMLFVMqpfT6d4rX854t",
      "include_colab_link": true
    },
    "kernelspec": {
      "name": "python3",
      "display_name": "Python 3"
    },
    "language_info": {
      "name": "python"
    }
  },
  "cells": [
    {
      "cell_type": "markdown",
      "metadata": {
        "id": "view-in-github",
        "colab_type": "text"
      },
      "source": [
        "<a href=\"https://colab.research.google.com/github/Lino-Domingos/data-minig2/blob/main/Regression.ipynb\" target=\"_parent\"><img src=\"https://colab.research.google.com/assets/colab-badge.svg\" alt=\"Open In Colab\"/></a>"
      ]
    },
    {
      "cell_type": "markdown",
      "source": [
        "# **Linear Regression**\n",
        "E Uma técnica estatística que pode ser usada para analisar a relação entre uma única variável dependente e múltiplas variáveis independentes (preditoras). E um metodo  predição, usado para prever permito fazermos questoes semelhantes:\n",
        "1.   Qual e o seu relacionamento (variaveis em analise);\n",
        "2.   De que forma as variaveis se relacionam;\n",
        "3. Qual variavel afeta a variavel de interesse.\n",
        "\n",
        "\n",
        "\n"
      ],
      "metadata": {
        "id": "rDCMsAfdmH1T"
      }
    },
    {
      "cell_type": "markdown",
      "source": [
        "# **Regressao Linear Simples**\n",
        "\n",
        "Este tipo de regressao baseia-se na predicao de uma variavel dependente (Y), a partir de uma unica variavel independente (x), assumindo o relacionamento de forma aproximada entre x e y.\n",
        "\n",
        "NB: var dependentes sao de forma resumida a variaveis pelo qual orientamos o estudo.\n",
        "\n",
        "Atencao ver: http://rstudio-pubs-static.s3.amazonaws.com/431946_418d123eabd94c75b1eb1799e14da71e.html \n",
        "\n",
        "MMQ - "
      ],
      "metadata": {
        "id": "PcX_HSJUskYM"
      }
    },
    {
      "cell_type": "code",
      "source": [],
      "metadata": {
        "id": "BOUM_1-VmF7x"
      },
      "execution_count": null,
      "outputs": []
    }
  ]
}