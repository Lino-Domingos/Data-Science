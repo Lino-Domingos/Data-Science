{
  "nbformat": 4,
  "nbformat_minor": 0,
  "metadata": {
    "colab": {
      "provenance": [],
      "authorship_tag": "ABX9TyPeECAs6y91anS0bvf/6hLY",
      "include_colab_link": true
    },
    "kernelspec": {
      "name": "python3",
      "display_name": "Python 3"
    },
    "language_info": {
      "name": "python"
    }
  },
  "cells": [
    {
      "cell_type": "markdown",
      "metadata": {
        "id": "view-in-github",
        "colab_type": "text"
      },
      "source": [
        "<a href=\"https://colab.research.google.com/github/Lino-Domingos/data-minig2/blob/main/Regression.ipynb\" target=\"_parent\"><img src=\"https://colab.research.google.com/assets/colab-badge.svg\" alt=\"Open In Colab\"/></a>"
      ]
    },
    {
      "cell_type": "markdown",
      "source": [
        "# **Linear Regression**\n",
        "E Uma técnica estatística que pode ser usada para analisar a relação entre uma única variável dependente e múltiplas variáveis independentes (preditoras). E um metodo  predição, usado para prever permito fazermos questoes semelhantes:\n",
        "1.   Qual e o seu relacionamento (variaveis em analise);\n",
        "2.   De que forma as variaveis se relacionam;\n",
        "3. Qual variavel afeta a variavel de interesse.\n",
        "\n",
        "\n",
        "\n"
      ],
      "metadata": {
        "id": "rDCMsAfdmH1T"
      }
    },
    {
      "cell_type": "markdown",
      "source": [
        "# **Regressao Linear Simples**\n",
        "\n",
        "Este tipo de regressao baseia-se na predicao de uma variavel dependente (Y), a partir de uma unica variavel independente (x), assumindo o relacionamento de forma aproximada entre x e y.\n",
        "\n",
        "NB: var dependentes sao de forma resumida a variaveis pelo qual orientamos o estudo.\n",
        "\n",
        "Atencao ver: http://rstudio-pubs-static.s3.amazonaws.com/431946_418d123eabd94c75b1eb1799e14da71e.html \n",
        "\n",
        "MMQ - "
      ],
      "metadata": {
        "id": "PcX_HSJUskYM"
      }
    },
    {
      "cell_type": "markdown",
      "source": [
        "# Nova secção"
      ],
      "metadata": {
        "id": "6bj1QonkVR-p"
      }
    },
    {
      "cell_type": "markdown",
      "source": [
        "Bibliotecas necessarias:\n",
        "\n",
        "\n",
        "1.   Pandas(biblioteca principal para analise de dados)\n",
        "2.   Numpy (biblioteca para array)\n",
        "3.   Math (funcoes matematicas)\n",
        "4.   Matlop (para plotar os graficos)\n",
        "\n",
        "\n"
      ],
      "metadata": {
        "id": "vOUQELyNSpoS"
      }
    },
    {
      "cell_type": "markdown",
      "source": [
        "# **Linear Regression**"
      ],
      "metadata": {
        "id": "y9i6HeKNYnHs"
      }
    },
    {
      "cell_type": "code",
      "source": [
        "#Libraries in python for analyzing data, important libraries for working with data\n",
        "import pandas as pd\n",
        "import numpy as np\n",
        "import math\n",
        "\n",
        "\n",
        "#Library essential to make plot of all graphics\n",
        "import matplotlib.pyplot as plt\n",
        "\n",
        "#Libraries needed to perform linear regression\n",
        "from sklearn.linear_model import LinearRegression\n",
        "from sklearn.metrics import r2_score\n",
        "from sklearn.metrics import mean_squared_error\n"
      ],
      "metadata": {
        "id": "BOUM_1-VmF7x"
      },
      "execution_count": 53,
      "outputs": []
    },
    {
      "cell_type": "markdown",
      "source": [
        "Para realizarmos a regressao linear e e necessario import o conjunto de dados para podermos analisar."
      ],
      "metadata": {
        "id": "7lYtJ9yDloQZ"
      }
    },
    {
      "cell_type": "code",
      "source": [
        "data = pd.read_csv('salary1.csv')\n",
        "data.describe()"
      ],
      "metadata": {
        "colab": {
          "base_uri": "https://localhost:8080/",
          "height": 300
        },
        "id": "WDiVF7RmW44y",
        "outputId": "7c7a9c73-5678-491e-c1b8-a85eb2bfc1ef"
      },
      "execution_count": 47,
      "outputs": [
        {
          "output_type": "execute_result",
          "data": {
            "text/plain": [
              "       Unnamed: 0  YearsExperience         Salary\n",
              "count   30.000000        30.000000      30.000000\n",
              "mean    14.500000         5.413333   76004.000000\n",
              "std      8.803408         2.837888   27414.429785\n",
              "min      0.000000         1.200000   37732.000000\n",
              "25%      7.250000         3.300000   56721.750000\n",
              "50%     14.500000         4.800000   65238.000000\n",
              "75%     21.750000         7.800000  100545.750000\n",
              "max     29.000000        10.600000  122392.000000"
            ],
            "text/html": [
              "\n",
              "  <div id=\"df-fcb87b9a-daaf-4f25-b234-a8aaaad494d7\">\n",
              "    <div class=\"colab-df-container\">\n",
              "      <div>\n",
              "<style scoped>\n",
              "    .dataframe tbody tr th:only-of-type {\n",
              "        vertical-align: middle;\n",
              "    }\n",
              "\n",
              "    .dataframe tbody tr th {\n",
              "        vertical-align: top;\n",
              "    }\n",
              "\n",
              "    .dataframe thead th {\n",
              "        text-align: right;\n",
              "    }\n",
              "</style>\n",
              "<table border=\"1\" class=\"dataframe\">\n",
              "  <thead>\n",
              "    <tr style=\"text-align: right;\">\n",
              "      <th></th>\n",
              "      <th>Unnamed: 0</th>\n",
              "      <th>YearsExperience</th>\n",
              "      <th>Salary</th>\n",
              "    </tr>\n",
              "  </thead>\n",
              "  <tbody>\n",
              "    <tr>\n",
              "      <th>count</th>\n",
              "      <td>30.000000</td>\n",
              "      <td>30.000000</td>\n",
              "      <td>30.000000</td>\n",
              "    </tr>\n",
              "    <tr>\n",
              "      <th>mean</th>\n",
              "      <td>14.500000</td>\n",
              "      <td>5.413333</td>\n",
              "      <td>76004.000000</td>\n",
              "    </tr>\n",
              "    <tr>\n",
              "      <th>std</th>\n",
              "      <td>8.803408</td>\n",
              "      <td>2.837888</td>\n",
              "      <td>27414.429785</td>\n",
              "    </tr>\n",
              "    <tr>\n",
              "      <th>min</th>\n",
              "      <td>0.000000</td>\n",
              "      <td>1.200000</td>\n",
              "      <td>37732.000000</td>\n",
              "    </tr>\n",
              "    <tr>\n",
              "      <th>25%</th>\n",
              "      <td>7.250000</td>\n",
              "      <td>3.300000</td>\n",
              "      <td>56721.750000</td>\n",
              "    </tr>\n",
              "    <tr>\n",
              "      <th>50%</th>\n",
              "      <td>14.500000</td>\n",
              "      <td>4.800000</td>\n",
              "      <td>65238.000000</td>\n",
              "    </tr>\n",
              "    <tr>\n",
              "      <th>75%</th>\n",
              "      <td>21.750000</td>\n",
              "      <td>7.800000</td>\n",
              "      <td>100545.750000</td>\n",
              "    </tr>\n",
              "    <tr>\n",
              "      <th>max</th>\n",
              "      <td>29.000000</td>\n",
              "      <td>10.600000</td>\n",
              "      <td>122392.000000</td>\n",
              "    </tr>\n",
              "  </tbody>\n",
              "</table>\n",
              "</div>\n",
              "      <button class=\"colab-df-convert\" onclick=\"convertToInteractive('df-fcb87b9a-daaf-4f25-b234-a8aaaad494d7')\"\n",
              "              title=\"Convert this dataframe to an interactive table.\"\n",
              "              style=\"display:none;\">\n",
              "        \n",
              "  <svg xmlns=\"http://www.w3.org/2000/svg\" height=\"24px\"viewBox=\"0 0 24 24\"\n",
              "       width=\"24px\">\n",
              "    <path d=\"M0 0h24v24H0V0z\" fill=\"none\"/>\n",
              "    <path d=\"M18.56 5.44l.94 2.06.94-2.06 2.06-.94-2.06-.94-.94-2.06-.94 2.06-2.06.94zm-11 1L8.5 8.5l.94-2.06 2.06-.94-2.06-.94L8.5 2.5l-.94 2.06-2.06.94zm10 10l.94 2.06.94-2.06 2.06-.94-2.06-.94-.94-2.06-.94 2.06-2.06.94z\"/><path d=\"M17.41 7.96l-1.37-1.37c-.4-.4-.92-.59-1.43-.59-.52 0-1.04.2-1.43.59L10.3 9.45l-7.72 7.72c-.78.78-.78 2.05 0 2.83L4 21.41c.39.39.9.59 1.41.59.51 0 1.02-.2 1.41-.59l7.78-7.78 2.81-2.81c.8-.78.8-2.07 0-2.86zM5.41 20L4 18.59l7.72-7.72 1.47 1.35L5.41 20z\"/>\n",
              "  </svg>\n",
              "      </button>\n",
              "      \n",
              "  <style>\n",
              "    .colab-df-container {\n",
              "      display:flex;\n",
              "      flex-wrap:wrap;\n",
              "      gap: 12px;\n",
              "    }\n",
              "\n",
              "    .colab-df-convert {\n",
              "      background-color: #E8F0FE;\n",
              "      border: none;\n",
              "      border-radius: 50%;\n",
              "      cursor: pointer;\n",
              "      display: none;\n",
              "      fill: #1967D2;\n",
              "      height: 32px;\n",
              "      padding: 0 0 0 0;\n",
              "      width: 32px;\n",
              "    }\n",
              "\n",
              "    .colab-df-convert:hover {\n",
              "      background-color: #E2EBFA;\n",
              "      box-shadow: 0px 1px 2px rgba(60, 64, 67, 0.3), 0px 1px 3px 1px rgba(60, 64, 67, 0.15);\n",
              "      fill: #174EA6;\n",
              "    }\n",
              "\n",
              "    [theme=dark] .colab-df-convert {\n",
              "      background-color: #3B4455;\n",
              "      fill: #D2E3FC;\n",
              "    }\n",
              "\n",
              "    [theme=dark] .colab-df-convert:hover {\n",
              "      background-color: #434B5C;\n",
              "      box-shadow: 0px 1px 3px 1px rgba(0, 0, 0, 0.15);\n",
              "      filter: drop-shadow(0px 1px 2px rgba(0, 0, 0, 0.3));\n",
              "      fill: #FFFFFF;\n",
              "    }\n",
              "  </style>\n",
              "\n",
              "      <script>\n",
              "        const buttonEl =\n",
              "          document.querySelector('#df-fcb87b9a-daaf-4f25-b234-a8aaaad494d7 button.colab-df-convert');\n",
              "        buttonEl.style.display =\n",
              "          google.colab.kernel.accessAllowed ? 'block' : 'none';\n",
              "\n",
              "        async function convertToInteractive(key) {\n",
              "          const element = document.querySelector('#df-fcb87b9a-daaf-4f25-b234-a8aaaad494d7');\n",
              "          const dataTable =\n",
              "            await google.colab.kernel.invokeFunction('convertToInteractive',\n",
              "                                                     [key], {});\n",
              "          if (!dataTable) return;\n",
              "\n",
              "          const docLinkHtml = 'Like what you see? Visit the ' +\n",
              "            '<a target=\"_blank\" href=https://colab.research.google.com/notebooks/data_table.ipynb>data table notebook</a>'\n",
              "            + ' to learn more about interactive tables.';\n",
              "          element.innerHTML = '';\n",
              "          dataTable['output_type'] = 'display_data';\n",
              "          await google.colab.output.renderOutput(dataTable, element);\n",
              "          const docLink = document.createElement('div');\n",
              "          docLink.innerHTML = docLinkHtml;\n",
              "          element.appendChild(docLink);\n",
              "        }\n",
              "      </script>\n",
              "    </div>\n",
              "  </div>\n",
              "  "
            ]
          },
          "metadata": {},
          "execution_count": 47
        }
      ]
    },
    {
      "cell_type": "code",
      "source": [
        "df = pd.DataFrame(data)\n",
        "df.head()"
      ],
      "metadata": {
        "colab": {
          "base_uri": "https://localhost:8080/"
        },
        "id": "VHNRev02zbHA",
        "outputId": "281de7e6-458f-4aec-9e55-4b6d555e6fc7"
      },
      "execution_count": 54,
      "outputs": [
        {
          "output_type": "execute_result",
          "data": {
            "text/plain": [
              "(30, 3)"
            ]
          },
          "metadata": {},
          "execution_count": 54
        }
      ]
    },
    {
      "cell_type": "code",
      "source": [
        "df = data.loc[:, ['YearsExperience','Salary']]"
      ],
      "metadata": {
        "id": "1zDj66ClZg_h"
      },
      "execution_count": 49,
      "outputs": []
    },
    {
      "cell_type": "code",
      "source": [
        "data.plot(x='Salary', y='YearsExperience', style='o')\n",
        "plt.xlabel(\"Salary\")\n",
        "plt.ylabel(\"Years_experience\")\n",
        "plt.title('Salary')\n",
        "\n",
        "print(plt.show())"
      ],
      "metadata": {
        "colab": {
          "base_uri": "https://localhost:8080/",
          "height": 312
        },
        "id": "ty5r_vM9sa7h",
        "outputId": "3603b3a4-9972-46ad-829d-513466cb9395"
      },
      "execution_count": 50,
      "outputs": [
        {
          "output_type": "display_data",
          "data": {
            "text/plain": [
              "<Figure size 432x288 with 1 Axes>"
            ],
            "image/png": "[encoded data removed]"
          },
          "metadata": {
            "needs_background": "light"
          }
        },
        {
          "output_type": "stream",
          "name": "stdout",
          "text": [
            "None\n"
          ]
        }
      ]
    },
    {
      "cell_type": "markdown",
      "source": [
        "# **Simple Linear Regression**"
      ],
      "metadata": {
        "id": "Hd5QsdTSkYBr"
      }
    },
    {
      "cell_type": "markdown",
      "source": [
        "Para a regressao linear simples, primeiro inicializei o modelo, decrito abaixo."
      ],
      "metadata": {
        "id": "rlg1tUhPAcKx"
      }
    },
    {
      "cell_type": "code",
      "source": [
        "ln_regre = LinearRegression()"
      ],
      "metadata": {
        "id": "OGEzlAZ9AQ6T"
      },
      "execution_count": null,
      "outputs": []
    },
    {
      "cell_type": "markdown",
      "source": [
        "Dividimos as variaveis dependentes e as variaveis independentes para a regressao linear."
      ],
      "metadata": {
        "id": "OXqkCEUWlZET"
      }
    },
    {
      "cell_type": "code",
      "source": [
        "#Os dados de entrada para a linear Regression devem estar em uma coluna, x.shape = (30, 3) Por isso devem \n",
        "x = df['Salary'].values.reshape(-1,1)\n",
        "y = df['YearsExperience'].values.reshape(-1, 1)"
      ],
      "metadata": {
        "colab": {
          "base_uri": "https://localhost:8080/"
        },
        "id": "cGj0aW_YkjIA",
        "outputId": "187c2f04-66e5-447c-83f7-621eac915510"
      },
      "execution_count": 70,
      "outputs": [
        {
          "output_type": "execute_result",
          "data": {
            "text/plain": [
              "(30, 1)"
            ]
          },
          "metadata": {},
          "execution_count": 70
        }
      ]
    },
    {
      "cell_type": "markdown",
      "source": [
        "Apos a divisao das variaveis dependentes e independentes, fixamos "
      ],
      "metadata": {
        "id": "SZNY10iSAH44"
      }
    },
    {
      "cell_type": "code",
      "source": [
        "ln_regre = LinearRegression()\n",
        "ln_regre.fit(x, y)"
      ],
      "metadata": {
        "id": "EAm_fl2emcpo"
      },
      "execution_count": null,
      "outputs": []
    },
    {
      "cell_type": "markdown",
      "source": [
        "Reshape numpy\n",
        "\n",
        "Diference reshape(-1,1), reshape (1, -1)\n",
        "\n",
        "1.  (-1, 1): -1 quantas linhas necessarias e 1 coluna; \n",
        "2.  (1, -1): 1 linha necessaria e quantas colunas necessarias;   \n"
      ],
      "metadata": {
        "id": "KKhh1VrCthYy"
      }
    }
  ]
}