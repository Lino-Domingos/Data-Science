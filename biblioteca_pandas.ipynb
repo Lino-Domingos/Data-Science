{
  "nbformat": 4,
  "nbformat_minor": 0,
  "metadata": {
    "colab": {
      "provenance": [],
      "authorship_tag": "ABX9TyPrS7/FB3exZv79wW004kSv",
      "include_colab_link": true
    },
    "kernelspec": {
      "name": "python3",
      "display_name": "Python 3"
    },
    "language_info": {
      "name": "python"
    }
  },
  "cells": [
    {
      "cell_type": "markdown",
      "metadata": {
        "id": "view-in-github",
        "colab_type": "text"
      },
      "source": [
        "<a href=\"https://colab.research.google.com/github/Lino-Domingos/data-minig2/blob/main/biblioteca_pandas.ipynb\" target=\"_parent\"><img src=\"https://colab.research.google.com/assets/colab-badge.svg\" alt=\"Open In Colab\"/></a>"
      ]
    },
    {
      "cell_type": "markdown",
      "source": [
        "Data minig 2, biblioteca principal para analise de dados."
      ],
      "metadata": {
        "id": "5iaVvODXa45T"
      }
    },
    {
      "cell_type": "markdown",
      "source": [
        "## ***Pandas***"
      ],
      "metadata": {
        "id": "l0O-GfrfbyIq"
      }
    },
    {
      "cell_type": "code",
      "execution_count": null,
      "metadata": {
        "id": "XtsDlSYBgwT5"
      },
      "outputs": [],
      "source": [
        "# Comando para importar a bibilioteca do pandas como pd\n",
        "import pandas as pd \n",
        "# Versao do panda\n",
        "print (pd.__version__)"
      ]
    },
    {
      "cell_type": "markdown",
      "source": [
        "## **Array**"
      ],
      "metadata": {
        "id": "upVjjLXhbpos"
      }
    },
    {
      "cell_type": "code",
      "source": [
        "# ---------ARRAY----------------- DATA SETS\n",
        "# Array em python\n",
        "cars = ['Ford', 'Volvo', 'BMW']\n",
        "print(cars)"
      ],
      "metadata": {
        "id": "72UsPBk_aigu"
      },
      "execution_count": null,
      "outputs": []
    },
    {
      "cell_type": "markdown",
      "source": [
        "# ***Series***"
      ],
      "metadata": {
        "id": "fjdd_FpDb5sU"
      }
    },
    {
      "cell_type": "code",
      "source": [
        "#--------------series ----------------------------------------\n",
        "# Series imprime caracteristicas do conjunto de dados (data sets) \n",
        "carros = pd.Series(cars)\n",
        "\n",
        "ml = {\"Lino\": 320, \"Alan\": 400, \"Lelio\": 500}\n",
        "teste = pd.Series(ml)\n",
        "#print (teste)\n",
        "\n",
        "teste1 = pd. Series (ml, index = [\"Lino\", \"Lelio\"])\n",
        "#index serve para indicar o elemento no conjunto de dados\n",
        "print (teste1)"
      ],
      "metadata": {
        "colab": {
          "base_uri": "https://localhost:8080/"
        },
        "id": "xIPTk8MIbK2P",
        "outputId": "44d0a627-4873-4f16-ba4c-6442298681b5"
      },
      "execution_count": null,
      "outputs": [
        {
          "output_type": "stream",
          "name": "stdout",
          "text": [
            "Lino     320\n",
            "Lelio    500\n",
            "dtype: int64\n"
          ]
        }
      ]
    },
    {
      "cell_type": "markdown",
      "source": [
        "# **Labels**"
      ],
      "metadata": {
        "id": "63tpp4w9b_e7"
      }
    },
    {
      "cell_type": "code",
      "source": [
        "# Labels no pandas servem para acessar um valor especificado dentro de uma determinada serie\n",
        "print (carros[1])\n",
        "# E possivel criar um nob="
      ],
      "metadata": {
        "id": "3owNJ3Apbhhn"
      },
      "execution_count": null,
      "outputs": []
    },
    {
      "cell_type": "markdown",
      "source": [
        "# **Dataframe (quadro de dados)**\n"
      ],
      "metadata": {
        "id": "oAjXk5CcSGsL"
      }
    },
    {
      "cell_type": "code",
      "source": [
        "# 1Criacao da lista, datasets\n",
        "import pandas as pd\n",
        "\n",
        "cd  = [[3, 4, 4, 6, 8, 8], [2, 3, 5]]\n",
        "#df = pd.DataFrame(cd)\n",
        "df - pd.DataFrame(cd, index = [\"Altos\", \"Baixos\"])\n",
        "print(df)\n",
        "# loc usado para retornar uma linha especifica de uma tabela\n",
        "#print (df.loc[[0, 1]])\n"
      ],
      "metadata": {
        "colab": {
          "base_uri": "https://localhost:8080/"
        },
        "id": "mh4N7RTnUl9V",
        "outputId": "916da1ed-720b-4619-b9a1-d4bad9729a02"
      },
      "execution_count": null,
      "outputs": [
        {
          "output_type": "stream",
          "name": "stdout",
          "text": [
            "   0  1  2    3    4    5\n",
            "0  3  4  4  6.0  8.0  8.0\n",
            "1  2  3  5  NaN  NaN  NaN\n"
          ]
        }
      ]
    },
    {
      "cell_type": "markdown",
      "source": [
        "# **Read CSV Files** "
      ],
      "metadata": {
        "id": "7dUcPflWnz5n"
      }
    },
    {
      "cell_type": "code",
      "source": [
        "import pandas as pd\n",
        "# Comando para importar o ficheiro csv\n",
        "alan = pd.read_csv('data.csv')\n",
        "print (pd.DataFrame(alan))"
      ],
      "metadata": {
        "colab": {
          "base_uri": "https://localhost:8080/"
        },
        "id": "FHxlRVReoCVO",
        "outputId": "a4be9bad-364f-4c49-e6d1-2676eb4104b4"
      },
      "execution_count": 23,
      "outputs": [
        {
          "output_type": "stream",
          "name": "stdout",
          "text": [
            "     Duration  Pulse  Maxpulse  Calories\n",
            "0          60    110       130     409.1\n",
            "1          60    117       145     479.0\n",
            "2          60    103       135     340.0\n",
            "3          45    109       175     282.4\n",
            "4          45    117       148     406.0\n",
            "..        ...    ...       ...       ...\n",
            "164        60    105       140     290.8\n",
            "165        60    110       145     300.0\n",
            "166        60    115       145     310.2\n",
            "167        75    120       150     320.4\n",
            "168        75    125       150     330.4\n",
            "\n",
            "[169 rows x 4 columns]\n"
          ]
        }
      ]
    }
  ]
}