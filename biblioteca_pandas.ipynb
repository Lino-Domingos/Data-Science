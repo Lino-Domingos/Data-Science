{
  "nbformat": 4,
  "nbformat_minor": 0,
  "metadata": {
    "colab": {
      "provenance": [],
      "authorship_tag": "ABX9TyOmTO0bkFz5lpOsSN38rdEI",
      "include_colab_link": true
    },
    "kernelspec": {
      "name": "python3",
      "display_name": "Python 3"
    },
    "language_info": {
      "name": "python"
    }
  },
  "cells": [
    {
      "cell_type": "markdown",
      "metadata": {
        "id": "view-in-github",
        "colab_type": "text"
      },
      "source": [
        "<a href=\"https://colab.research.google.com/github/Lino-Domingos/data-minig2/blob/main/biblioteca_pandas.ipynb\" target=\"_parent\"><img src=\"https://colab.research.google.com/assets/colab-badge.svg\" alt=\"Open In Colab\"/></a>"
      ]
    },
    {
      "cell_type": "markdown",
      "source": [
        "Data minig 2, biblioteca principal para analise de dados."
      ],
      "metadata": {
        "id": "5iaVvODXa45T"
      }
    },
    {
      "cell_type": "markdown",
      "source": [
        "# IMPORT **PANDAS**"
      ],
      "metadata": {
        "id": "l0O-GfrfbyIq"
      }
    },
    {
      "cell_type": "code",
      "execution_count": null,
      "metadata": {
        "id": "XtsDlSYBgwT5"
      },
      "outputs": [],
      "source": [
        "# Comando para importar a bibilioteca do pandas como pd\n",
        "import pandas as pd \n",
        "# Versao do panda\n",
        "print (pd.__version__)"
      ]
    },
    {
      "cell_type": "markdown",
      "source": [
        "## **Array**"
      ],
      "metadata": {
        "id": "upVjjLXhbpos"
      }
    },
    {
      "cell_type": "code",
      "source": [
        "# ---------ARRAY----------------- DATA SETS\n",
        "# Array em python\n",
        "cars = ['Ford', 'Volvo', 'BMW']\n",
        "print(cars)"
      ],
      "metadata": {
        "id": "72UsPBk_aigu"
      },
      "execution_count": null,
      "outputs": []
    },
    {
      "cell_type": "markdown",
      "source": [
        "# ***Series***"
      ],
      "metadata": {
        "id": "fjdd_FpDb5sU"
      }
    },
    {
      "cell_type": "code",
      "source": [
        "#--------------series ----------------------------------------\n",
        "# Series imprime caracteristicas do conjunto de dados (data sets) \n",
        "carros = pd.Series(cars)\n",
        "\n",
        "ml = {\"Lino\": 320, \"Alan\": 400, \"Lelio\": 500}\n",
        "teste = pd.Series(ml)\n",
        "#print (teste)\n",
        "\n",
        "teste1 = pd. Series (ml, index = [\"Lino\", \"Lelio\"])\n",
        "#index serve para indicar o elemento no conjunto de dados\n",
        "print (teste1)"
      ],
      "metadata": {
        "colab": {
          "base_uri": "https://localhost:8080/"
        },
        "id": "xIPTk8MIbK2P",
        "outputId": "44d0a627-4873-4f16-ba4c-6442298681b5"
      },
      "execution_count": null,
      "outputs": [
        {
          "output_type": "stream",
          "name": "stdout",
          "text": [
            "Lino     320\n",
            "Lelio    500\n",
            "dtype: int64\n"
          ]
        }
      ]
    },
    {
      "cell_type": "markdown",
      "source": [
        "# **Labels**"
      ],
      "metadata": {
        "id": "63tpp4w9b_e7"
      }
    },
    {
      "cell_type": "code",
      "source": [
        "# Labels no pandas servem para acessar um valor especificado dentro de uma determinada serie\n",
        "print (carros[1])\n",
        "# E possivel criar um nob="
      ],
      "metadata": {
        "id": "3owNJ3Apbhhn"
      },
      "execution_count": null,
      "outputs": []
    },
    {
      "cell_type": "markdown",
      "source": [
        "**Dataframe (quadro de dados)**\n",
        "\n",
        "O dataframe pode ser criado de diferentes formas, a saber:\n",
        "\n",
        "\n",
        "1.   List\n",
        "2.   Item de lista\n",
        "\n"
      ],
      "metadata": {
        "id": "oAjXk5CcSGsL"
      }
    },
    {
      "cell_type": "code",
      "source": [
        "# 1Criacao da lista, datasets\n",
        "import pandas as pd\n",
        "\n",
        "cd  = [3, 4, 4, 6, 8, 8]\n",
        "df = pd.DataFrame(cd)\n",
        "df"
      ],
      "metadata": {
        "colab": {
          "base_uri": "https://localhost:8080/",
          "height": 237
        },
        "id": "mh4N7RTnUl9V",
        "outputId": "eeb6f391-3273-4d4b-d9fc-8e8f9214310e"
      },
      "execution_count": 8,
      "outputs": [
        {
          "output_type": "execute_result",
          "data": {
            "text/plain": [
              "   0\n",
              "0  3\n",
              "1  4\n",
              "2  4\n",
              "3  6\n",
              "4  8\n",
              "5  8"
            ],
            "text/html": [
              "\n",
              "  <div id=\"df-b8b0e20e-0b88-4768-a01f-8cc3fe7f1303\">\n",
              "    <div class=\"colab-df-container\">\n",
              "      <div>\n",
              "<style scoped>\n",
              "    .dataframe tbody tr th:only-of-type {\n",
              "        vertical-align: middle;\n",
              "    }\n",
              "\n",
              "    .dataframe tbody tr th {\n",
              "        vertical-align: top;\n",
              "    }\n",
              "\n",
              "    .dataframe thead th {\n",
              "        text-align: right;\n",
              "    }\n",
              "</style>\n",
              "<table border=\"1\" class=\"dataframe\">\n",
              "  <thead>\n",
              "    <tr style=\"text-align: right;\">\n",
              "      <th></th>\n",
              "      <th>0</th>\n",
              "    </tr>\n",
              "  </thead>\n",
              "  <tbody>\n",
              "    <tr>\n",
              "      <th>0</th>\n",
              "      <td>3</td>\n",
              "    </tr>\n",
              "    <tr>\n",
              "      <th>1</th>\n",
              "      <td>4</td>\n",
              "    </tr>\n",
              "    <tr>\n",
              "      <th>2</th>\n",
              "      <td>4</td>\n",
              "    </tr>\n",
              "    <tr>\n",
              "      <th>3</th>\n",
              "      <td>6</td>\n",
              "    </tr>\n",
              "    <tr>\n",
              "      <th>4</th>\n",
              "      <td>8</td>\n",
              "    </tr>\n",
              "    <tr>\n",
              "      <th>5</th>\n",
              "      <td>8</td>\n",
              "    </tr>\n",
              "  </tbody>\n",
              "</table>\n",
              "</div>\n",
              "      <button class=\"colab-df-convert\" onclick=\"convertToInteractive('df-b8b0e20e-0b88-4768-a01f-8cc3fe7f1303')\"\n",
              "              title=\"Convert this dataframe to an interactive table.\"\n",
              "              style=\"display:none;\">\n",
              "        \n",
              "  <svg xmlns=\"http://www.w3.org/2000/svg\" height=\"24px\"viewBox=\"0 0 24 24\"\n",
              "       width=\"24px\">\n",
              "    <path d=\"M0 0h24v24H0V0z\" fill=\"none\"/>\n",
              "    <path d=\"M18.56 5.44l.94 2.06.94-2.06 2.06-.94-2.06-.94-.94-2.06-.94 2.06-2.06.94zm-11 1L8.5 8.5l.94-2.06 2.06-.94-2.06-.94L8.5 2.5l-.94 2.06-2.06.94zm10 10l.94 2.06.94-2.06 2.06-.94-2.06-.94-.94-2.06-.94 2.06-2.06.94z\"/><path d=\"M17.41 7.96l-1.37-1.37c-.4-.4-.92-.59-1.43-.59-.52 0-1.04.2-1.43.59L10.3 9.45l-7.72 7.72c-.78.78-.78 2.05 0 2.83L4 21.41c.39.39.9.59 1.41.59.51 0 1.02-.2 1.41-.59l7.78-7.78 2.81-2.81c.8-.78.8-2.07 0-2.86zM5.41 20L4 18.59l7.72-7.72 1.47 1.35L5.41 20z\"/>\n",
              "  </svg>\n",
              "      </button>\n",
              "      \n",
              "  <style>\n",
              "    .colab-df-container {\n",
              "      display:flex;\n",
              "      flex-wrap:wrap;\n",
              "      gap: 12px;\n",
              "    }\n",
              "\n",
              "    .colab-df-convert {\n",
              "      background-color: #E8F0FE;\n",
              "      border: none;\n",
              "      border-radius: 50%;\n",
              "      cursor: pointer;\n",
              "      display: none;\n",
              "      fill: #1967D2;\n",
              "      height: 32px;\n",
              "      padding: 0 0 0 0;\n",
              "      width: 32px;\n",
              "    }\n",
              "\n",
              "    .colab-df-convert:hover {\n",
              "      background-color: #E2EBFA;\n",
              "      box-shadow: 0px 1px 2px rgba(60, 64, 67, 0.3), 0px 1px 3px 1px rgba(60, 64, 67, 0.15);\n",
              "      fill: #174EA6;\n",
              "    }\n",
              "\n",
              "    [theme=dark] .colab-df-convert {\n",
              "      background-color: #3B4455;\n",
              "      fill: #D2E3FC;\n",
              "    }\n",
              "\n",
              "    [theme=dark] .colab-df-convert:hover {\n",
              "      background-color: #434B5C;\n",
              "      box-shadow: 0px 1px 3px 1px rgba(0, 0, 0, 0.15);\n",
              "      filter: drop-shadow(0px 1px 2px rgba(0, 0, 0, 0.3));\n",
              "      fill: #FFFFFF;\n",
              "    }\n",
              "  </style>\n",
              "\n",
              "      <script>\n",
              "        const buttonEl =\n",
              "          document.querySelector('#df-b8b0e20e-0b88-4768-a01f-8cc3fe7f1303 button.colab-df-convert');\n",
              "        buttonEl.style.display =\n",
              "          google.colab.kernel.accessAllowed ? 'block' : 'none';\n",
              "\n",
              "        async function convertToInteractive(key) {\n",
              "          const element = document.querySelector('#df-b8b0e20e-0b88-4768-a01f-8cc3fe7f1303');\n",
              "          const dataTable =\n",
              "            await google.colab.kernel.invokeFunction('convertToInteractive',\n",
              "                                                     [key], {});\n",
              "          if (!dataTable) return;\n",
              "\n",
              "          const docLinkHtml = 'Like what you see? Visit the ' +\n",
              "            '<a target=\"_blank\" href=https://colab.research.google.com/notebooks/data_table.ipynb>data table notebook</a>'\n",
              "            + ' to learn more about interactive tables.';\n",
              "          element.innerHTML = '';\n",
              "          dataTable['output_type'] = 'display_data';\n",
              "          await google.colab.output.renderOutput(dataTable, element);\n",
              "          const docLink = document.createElement('div');\n",
              "          docLink.innerHTML = docLinkHtml;\n",
              "          element.appendChild(docLink);\n",
              "        }\n",
              "      </script>\n",
              "    </div>\n",
              "  </div>\n",
              "  "
            ]
          },
          "metadata": {},
          "execution_count": 8
        }
      ]
    }
  ]
}