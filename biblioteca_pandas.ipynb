{
  "nbformat": 4,
  "nbformat_minor": 0,
  "metadata": {
    "colab": {
      "provenance": [],
      "authorship_tag": "ABX9TyM9whjS1SzDbMRAWcutohuX",
      "include_colab_link": true
    },
    "kernelspec": {
      "name": "python3",
      "display_name": "Python 3"
    },
    "language_info": {
      "name": "python"
    }
  },
  "cells": [
    {
      "cell_type": "markdown",
      "metadata": {
        "id": "view-in-github",
        "colab_type": "text"
      },
      "source": [
        "<a href=\"https://colab.research.google.com/github/Lino-Domingos/data-minig2/blob/main/biblioteca_pandas.ipynb\" target=\"_parent\"><img src=\"https://colab.research.google.com/assets/colab-badge.svg\" alt=\"Open In Colab\"/></a>"
      ]
    },
    {
      "cell_type": "markdown",
      "source": [
        "Data minig 2, biblioteca principal para analise de dados."
      ],
      "metadata": {
        "id": "5iaVvODXa45T"
      }
    },
    {
      "cell_type": "markdown",
      "source": [
        "## ***Pandas***"
      ],
      "metadata": {
        "id": "l0O-GfrfbyIq"
      }
    },
    {
      "cell_type": "code",
      "execution_count": null,
      "metadata": {
        "id": "XtsDlSYBgwT5",
        "colab": {
          "base_uri": "https://localhost:8080/"
        },
        "outputId": "ddc331ae-1677-4da4-e476-546677e9cfca"
      },
      "outputs": [
        {
          "output_type": "stream",
          "name": "stdout",
          "text": [
            "1.3.5\n"
          ]
        }
      ],
      "source": [
        "# Comando para importar a bibilioteca do pandas como pd\n",
        "import pandas as pd \n",
        "# Versao do panda\n",
        "print (pd.__version__)"
      ]
    },
    {
      "cell_type": "markdown",
      "source": [
        "## **Array**"
      ],
      "metadata": {
        "id": "upVjjLXhbpos"
      }
    },
    {
      "cell_type": "code",
      "source": [
        "# ---------ARRAY----------------- DATA SETS\n",
        "# Array em python\n",
        "cars = ['Ford', 'Volvo', 'BMW']\n",
        "print(cars)"
      ],
      "metadata": {
        "id": "72UsPBk_aigu",
        "colab": {
          "base_uri": "https://localhost:8080/"
        },
        "outputId": "83cb2771-0b15-43c8-ffdd-e9643d45dac5"
      },
      "execution_count": null,
      "outputs": [
        {
          "output_type": "stream",
          "name": "stdout",
          "text": [
            "['Ford', 'Volvo', 'BMW']\n"
          ]
        }
      ]
    },
    {
      "cell_type": "markdown",
      "source": [
        "# ***Series***"
      ],
      "metadata": {
        "id": "fjdd_FpDb5sU"
      }
    },
    {
      "cell_type": "code",
      "source": [
        "#--------------series ----------------------------------------\n",
        "# Series imprime caracteristicas do conjunto de dados (data sets) \n",
        "carros = pd.Series(cars)\n",
        "\n",
        "ml = {\"Lino\": 320, \"Alan\": 400, \"Lelio\": 500}\n",
        "teste = pd.Series(ml)\n",
        "#print (teste)\n",
        "\n",
        "teste1 = pd. Series (ml, index = [\"Lino\", \"Lelio\"])\n",
        "#index serve para indicar o elemento no conjunto de dados\n",
        "print (teste1)"
      ],
      "metadata": {
        "colab": {
          "base_uri": "https://localhost:8080/"
        },
        "id": "xIPTk8MIbK2P",
        "outputId": "5661cbd0-10a6-4c33-d885-01df1a76ccd1"
      },
      "execution_count": null,
      "outputs": [
        {
          "output_type": "stream",
          "name": "stdout",
          "text": [
            "Lino     320\n",
            "Lelio    500\n",
            "dtype: int64\n"
          ]
        }
      ]
    },
    {
      "cell_type": "markdown",
      "source": [
        "# **Labels**"
      ],
      "metadata": {
        "id": "63tpp4w9b_e7"
      }
    },
    {
      "cell_type": "code",
      "source": [
        "# Labels no pandas servem para acessar um valor especificado dentro de uma determinada serie\n",
        "print (carros[1])\n",
        "# E possivel criar um nob="
      ],
      "metadata": {
        "id": "3owNJ3Apbhhn",
        "colab": {
          "base_uri": "https://localhost:8080/"
        },
        "outputId": "e2bb2d11-8dda-4c9c-c5a2-f14db6b7eef0"
      },
      "execution_count": null,
      "outputs": [
        {
          "output_type": "stream",
          "name": "stdout",
          "text": [
            "Volvo\n"
          ]
        }
      ]
    },
    {
      "cell_type": "markdown",
      "source": [
        "# **Dataframe (quadro de dados)**\n"
      ],
      "metadata": {
        "id": "oAjXk5CcSGsL"
      }
    },
    {
      "cell_type": "code",
      "source": [
        "# 1Criacao da lista, datasets\n",
        "import pandas as pd\n",
        "\n",
        "cd  = [[3, 4, 4, 6, 8, 8], [2, 3, 5]]\n",
        "#df = pd.DataFrame(cd)\n",
        "df = pd.DataFrame(cd, index = [\"Altos\", \"Baixos\"])\n",
        "print(df)\n",
        "# loc usado para retornar uma linha especifica de uma tabela\n",
        "#print (df.loc[[0, 1]])\n"
      ],
      "metadata": {
        "colab": {
          "base_uri": "https://localhost:8080/"
        },
        "id": "mh4N7RTnUl9V",
        "outputId": "7e8bcfb5-94af-4305-b94a-b5506b308bf0"
      },
      "execution_count": null,
      "outputs": [
        {
          "output_type": "stream",
          "name": "stdout",
          "text": [
            "        0  1  2    3    4    5\n",
            "Altos   3  4  4  6.0  8.0  8.0\n",
            "Baixos  2  3  5  NaN  NaN  NaN\n"
          ]
        }
      ]
    },
    {
      "cell_type": "markdown",
      "source": [
        "# **Read CSV Files** "
      ],
      "metadata": {
        "id": "7dUcPflWnz5n"
      }
    },
    {
      "cell_type": "code",
      "source": [
        "import pandas as pd\n",
        "# Comando para importar o ficheiro csv\n",
        "alan = pd.read_csv('data.csv')\n",
        "print (pd.DataFrame(alan))\n",
        "# o metodo to_string e usado para mostrar todo quadro de dados\n",
        "#print(alan.to_string())"
      ],
      "metadata": {
        "colab": {
          "base_uri": "https://localhost:8080/"
        },
        "id": "FHxlRVReoCVO",
        "outputId": "54626ee1-7050-4e94-a0e7-1f8e62c3a6f8"
      },
      "execution_count": null,
      "outputs": [
        {
          "output_type": "stream",
          "name": "stdout",
          "text": [
            "     Duration  Pulse  Maxpulse  Calories\n",
            "0          60    110       130     409.1\n",
            "1          60    117       145     479.0\n",
            "2          60    103       135     340.0\n",
            "3          45    109       175     282.4\n",
            "4          45    117       148     406.0\n",
            "..        ...    ...       ...       ...\n",
            "164        60    105       140     290.8\n",
            "165        60    110       145     300.0\n",
            "166        60    115       145     310.2\n",
            "167        75    120       150     320.4\n",
            "168        75    125       150     330.4\n",
            "\n",
            "[169 rows x 4 columns]\n"
          ]
        }
      ]
    },
    {
      "cell_type": "code",
      "source": [
        "print(pd.options.display.max_rows)\n",
        "# codigo para mostrar em pandas dataframe o numero maximo de linhas do csv\n",
        "# E possivel declarar numeros de linhas na declaracao,\n",
        "# print(pd.options.display.max_rows = 10)\n",
        "pd.options.display.max_rows = 5\n",
        "print(alan)"
      ],
      "metadata": {
        "colab": {
          "base_uri": "https://localhost:8080/"
        },
        "id": "uKUiWZlWDpBM",
        "outputId": "b2354159-7171-4a90-e4b5-5d28da5bc065"
      },
      "execution_count": null,
      "outputs": [
        {
          "output_type": "stream",
          "name": "stdout",
          "text": [
            "5\n",
            "     Duration  Pulse  Maxpulse  Calories\n",
            "0          60    110       130     409.1\n",
            "1          60    117       145     479.0\n",
            "..        ...    ...       ...       ...\n",
            "167        75    120       150     320.4\n",
            "168        75    125       150     330.4\n",
            "\n",
            "[169 rows x 4 columns]\n"
          ]
        }
      ]
    },
    {
      "cell_type": "markdown",
      "source": [
        "Uma maneira de guardar grandes dados pode ser por meio de ficehiros csv"
      ],
      "metadata": {
        "id": "xuVmrBPI_0xB"
      }
    },
    {
      "cell_type": "markdown",
      "source": [
        "# **Analyzing DataFrames**"
      ],
      "metadata": {
        "id": "CV437OoOG3rm"
      }
    },
    {
      "cell_type": "code",
      "source": [],
      "metadata": {
        "id": "eD_SSOVsHC4N"
      },
      "execution_count": null,
      "outputs": []
    }
  ]
}